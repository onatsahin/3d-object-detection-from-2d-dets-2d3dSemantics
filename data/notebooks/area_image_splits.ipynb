{
 "cells": [
  {
   "cell_type": "code",
   "execution_count": 1,
   "metadata": {},
   "outputs": [],
   "source": [
    "import json"
   ]
  },
  {
   "cell_type": "code",
   "execution_count": 2,
   "metadata": {},
   "outputs": [],
   "source": [
    "with open('area_json_files/area_1_partitioned/area_1_train.json') as f:\n",
    "    area1_train = json.load(f)\n",
    "    \n",
    "with open('area_json_files/area_1_partitioned/area_1_test.json') as f:\n",
    "    area1_test = json.load(f)\n",
    "    \n",
    "with open('area_json_files/area_2_partitioned/area2_train.json') as f:\n",
    "    area2_train = json.load(f)\n",
    "    \n",
    "with open('area_json_files/area_2_partitioned/area2_test.json') as f:\n",
    "    area2_test = json.load(f)\n",
    "    \n",
    "with open('area_json_files/area_3_partitioned/area_3_train.json') as f:\n",
    "    area3_train = json.load(f)\n",
    "    \n",
    "with open('area_json_files/area_3_partitioned/area_3_val.json') as f:\n",
    "    area3_val = json.load(f)\n",
    "    \n",
    "with open('area_json_files/area_3_partitioned/area_3_test.json') as f:\n",
    "    area3_test = json.load(f)\n",
    "\n",
    "with open('area_json_files/area_4_partitioned/area_4_train.json') as f:\n",
    "    area4_train = json.load(f)\n",
    "    \n",
    "with open('area_json_files/area_4_partitioned/area_4_test.json') as f:\n",
    "    area4_test = json.load(f)"
   ]
  },
  {
   "cell_type": "code",
   "execution_count": 6,
   "metadata": {},
   "outputs": [
    {
     "data": {
      "text/plain": [
       "(8000, 748)"
      ]
     },
     "execution_count": 6,
     "metadata": {},
     "output_type": "execute_result"
    }
   ],
   "source": [
    "len(area1_train.keys()), len(area1_test.keys())"
   ]
  },
  {
   "cell_type": "code",
   "execution_count": 7,
   "metadata": {},
   "outputs": [
    {
     "data": {
      "text/plain": [
       "(12442, 1000)"
      ]
     },
     "execution_count": 7,
     "metadata": {},
     "output_type": "execute_result"
    }
   ],
   "source": [
    "len(area2_train.keys()), len(area2_test.keys())"
   ]
  },
  {
   "cell_type": "code",
   "execution_count": 9,
   "metadata": {},
   "outputs": [
    {
     "data": {
      "text/plain": [
       "(2433, 312)"
      ]
     },
     "execution_count": 9,
     "metadata": {},
     "output_type": "execute_result"
    }
   ],
   "source": [
    "len(area3_train.keys()), len(area3_val.keys())+len(area3_test.keys())"
   ]
  },
  {
   "cell_type": "code",
   "execution_count": 10,
   "metadata": {},
   "outputs": [
    {
     "data": {
      "text/plain": [
       "(9111, 1000)"
      ]
     },
     "execution_count": 10,
     "metadata": {},
     "output_type": "execute_result"
    }
   ],
   "source": [
    "len(area4_train.keys()), len(area4_test.keys())"
   ]
  },
  {
   "cell_type": "code",
   "execution_count": null,
   "metadata": {},
   "outputs": [],
   "source": []
  }
 ],
 "metadata": {
  "kernelspec": {
   "display_name": "Python [conda env:detectron2] *",
   "language": "python",
   "name": "conda-env-detectron2-py"
  },
  "language_info": {
   "codemirror_mode": {
    "name": "ipython",
    "version": 3
   },
   "file_extension": ".py",
   "mimetype": "text/x-python",
   "name": "python",
   "nbconvert_exporter": "python",
   "pygments_lexer": "ipython3",
   "version": "3.7.4"
  }
 },
 "nbformat": 4,
 "nbformat_minor": 2
}
